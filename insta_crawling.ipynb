{
 "cells": [
  {
   "cell_type": "code",
   "execution_count": 49,
   "metadata": {},
   "outputs": [],
   "source": [
    "from selenium import webdriver\n",
    "import time\n",
    "\n",
    "driver = webdriver.Chrome('/Users/mac/desktop/python/DataAnalysis/chromedriver')\n",
    "\n",
    "# 인스타그램 접속하기\n",
    "driver.get('https://www.instagram.com')\n",
    "time.sleep(2)\n",
    "\n",
    "# 페이스북 로그인\n",
    "input_id = driver.find_elements_by_css_selector('input._2hvTZ pexuQ zyHYP')\n",
    "facebook_login = driver.find_elements_by_css_selector('.sqdOP.yWX7d.y3zKF')[0].click()\n",
    "\n",
    "\n",
    "time.sleep(3)\n",
    "\n",
    "email = '<아이디>'\n",
    "input_id = driver.find_elements_by_css_selector('.inputtext._55r1.inputtext._1kbt.inputtext._1kbt')[0]\n",
    "input_id.clear()\n",
    "input_id.send_keys(email)\n",
    "\n",
    "password = '<비밀번호>'\n",
    "input_pw = driver.find_elements_by_css_selector('.inputtext._55r1.inputtext._1kbt.inputtext._1kbt')[1]\n",
    "input_pw.clear()\n",
    "input_pw.send_keys(password)\n",
    "input_pw.submit()\n",
    "\n",
    "time.sleep(5)"
   ]
  },
  {
   "cell_type": "code",
   "execution_count": 50,
   "metadata": {},
   "outputs": [],
   "source": [
    "def insta_searching(word):\n",
    "    url = 'https://www.instagram.com/explore/tags/' + word\n",
    "    return url\n",
    "\n",
    "word = '제주도맛집'\n",
    "url = insta_searching(word)\n",
    "\n",
    "driver.get(url)\n",
    "\n",
    "time.sleep(4)"
   ]
  },
  {
   "cell_type": "code",
   "execution_count": 51,
   "metadata": {},
   "outputs": [],
   "source": [
    "def select_first(driver):\n",
    "    first = driver.find_element_by_css_selector(\"div._9AhH0\")\n",
    "    first.click()\n",
    "    time.sleep(3)\n",
    "    \n",
    "select_first(driver)    "
   ]
  },
  {
   "cell_type": "code",
   "execution_count": 53,
   "metadata": {},
   "outputs": [
    {
     "data": {
      "text/plain": [
       "['(광고)제주도민들도 인정한 맛집 #운정이네.제주 중문에 위치한 아주아주 귀한맛집!제주 향토음식점 운정이네 에서맛있는 식사도하고 진정한 제주의맛을 느껴보는건 어떨까요?❤️❤️..✔️Am8:00시 빠른오픈으로 아침식사가능!제주하면 빠질수없는 제주갈치!운정이네 에서 재대로 즐겨보세요♥️.비주얼,양,맛까지 모두 사로잡은 운정이네 👍🏼(식사후엔 디저트로 커피,아이스크림까지🖤).운정이네제주 서귀포시 중간서로 726(지번) 1239-5🕰8:00~22:00문의:  064-738-3883...#제주도맛집#제주갈치조림맛집#제주도갈치조림#서귀포갈치조림#중문갈치조림#제주갈치구이#제주도갈치조림맛집#서귀포갈치조림맛집#제주통갈치조림#제주통갈치구이',\n",
       " '2020-12-15',\n",
       " 0,\n",
       " '',\n",
       " ['#운정이네.제주',\n",
       "  '#제주도맛집',\n",
       "  '#제주갈치조림맛집',\n",
       "  '#제주도갈치조림',\n",
       "  '#서귀포갈치조림',\n",
       "  '#중문갈치조림',\n",
       "  '#제주갈치구이',\n",
       "  '#제주도갈치조림맛집',\n",
       "  '#서귀포갈치조림맛집',\n",
       "  '#제주통갈치조림',\n",
       "  '#제주통갈치구이']]"
      ]
     },
     "execution_count": 53,
     "metadata": {},
     "output_type": "execute_result"
    }
   ],
   "source": [
    "# 게시글 정보 가져오기\n",
    "import re\n",
    "from bs4 import BeautifulSoup\n",
    "import unicodedata\n",
    "\n",
    "def get_content(driver):\n",
    "    html = driver.page_source\n",
    "    soup = BeautifulSoup(html, 'lxml')\n",
    "    \n",
    "    try:\n",
    "        content = soup.select('div.C4VMK > span')[0].text\n",
    "        content = unicodedata.normalize('NFC', content)\n",
    "    except:\n",
    "        content = ' '\n",
    "        \n",
    "    tags = re.findall(r'#[^\\s#,\\\\]+', content)\n",
    "    \n",
    "    date = soup.select('time._1o9PC.Nzb55')[0]['datetime'][:10]\n",
    "    \n",
    "    try:\n",
    "        like = soup.select('div.Nm9Fw > button')[0].text[4:-1]\n",
    "    except:\n",
    "        like = 0\n",
    "        \n",
    "    try:\n",
    "        place = soup.select('div.W30c5')[0].text\n",
    "        place = unicodedata.normalize('NFC', place)\n",
    "    except:\n",
    "        place = ''\n",
    "        \n",
    "    data = [content, date, like, place, tags]\n",
    "    return data\n",
    "\n",
    "get_content(driver)"
   ]
  },
  {
   "cell_type": "code",
   "execution_count": 54,
   "metadata": {},
   "outputs": [],
   "source": [
    "# 다음 페이지로 이동\n",
    "def move_next(driver):\n",
    "    right = driver.find_element_by_css_selector('a.coreSpriteRightPaginationArrow')\n",
    "    right.click()\n",
    "    time.sleep(3)\n",
    "    \n",
    "move_next(driver)    "
   ]
  },
  {
   "cell_type": "code",
   "execution_count": 55,
   "metadata": {},
   "outputs": [
    {
     "name": "stdout",
     "output_type": "stream",
     "text": [
      "[['(광고)제주도민들도 인정한 맛집 #운정이네.제주 중문에 위치한 아주아주 귀한맛집!제주 향토음식점 운정이네 에서맛있는 식사도하고 진정한 제주의맛을 느껴보는건 어떨까요?❤️❤️..✔️Am8:00시 빠른오픈으로 아침식사가능!제주하면 빠질수없는 제주갈치!운정이네 에서 재대로 즐겨보세요♥️.비주얼,양,맛까지 모두 사로잡은 운정이네 👍🏼(식사후엔 디저트로 커피,아이스크림까지🖤).운정이네제주 서귀포시 중간서로 726(지번) 1239-5🕰8:00~22:00문의:  064-738-3883...#제주도맛집#제주갈치조림맛집#제주도갈치조림#서귀포갈치조림#중문갈치조림#제주갈치구이#제주도갈치조림맛집#서귀포갈치조림맛집#제주통갈치조림#제주통갈치구이', '2020-12-15', 0, '', ['#운정이네.제주', '#제주도맛집', '#제주갈치조림맛집', '#제주도갈치조림', '#서귀포갈치조림', '#중문갈치조림', '#제주갈치구이', '#제주도갈치조림맛집', '#서귀포갈치조림맛집', '#제주통갈치조림', '#제주통갈치구이']], ['광고*..성산의 산뜻한 한끼 맛집 범식당! 연어초밥과 치즈 듬뿍들어간 돈까스가특히 매력적인 오늘의 추천 맛집!돈까스안 치즈에 돈까스를 푹-찍어먹으면그것이 예술ㅠㅠ바로 앞이 숨겨진 성산의 볼거리 오조포구가 있어더욱 좋은 곳..#제주도맛집#제주맛집#성산맛집#성산돈까스#제주돈까스#제주도돈까스#성산일출봉맛집#성산일출봉#오조리맛집#오조포구#성산초밥#제주도초밥#제주연어초밥#범식당', '2020-12-14', '1,745', '', ['#제주도맛집', '#제주맛집', '#성산맛집', '#성산돈까스', '#제주돈까스', '#제주도돈까스', '#성산일출봉맛집', '#성산일출봉', '#오조리맛집', '#오조포구', '#성산초밥', '#제주도초밥', '#제주연어초밥', '#범식당']]]\n"
     ]
    }
   ],
   "source": [
    "# 인스타그램 크롤링\n",
    "\n",
    "word = \"제주도맛집\"\n",
    "url = insta_searching(word)\n",
    "\n",
    "driver.get(url)\n",
    "time.sleep(4)\n",
    "\n",
    "select_first(driver)\n",
    "\n",
    "results = []\n",
    "\n",
    "target = 500\n",
    "for i in range(target):\n",
    "    try:\n",
    "        data = get_content(driver)\n",
    "        results.append(data)\n",
    "        move_next(driver)\n",
    "    except:\n",
    "        time.sleep(2)\n",
    "        move_next(driver)\n",
    "        \n",
    "        \n",
    "print(results[:2])    "
   ]
  },
  {
   "cell_type": "code",
   "execution_count": 56,
   "metadata": {},
   "outputs": [],
   "source": [
    "import pandas as pd\n",
    "\n",
    "results_df = pd.DataFrame(results)\n",
    "results_df.columns = ['content', 'data', 'like', 'place', 'tags']\n",
    "results_df.to_excel('./file/crawling_jejudoMatJip.xlsx', index = False)"
   ]
  },
  {
   "cell_type": "code",
   "execution_count": 57,
   "metadata": {},
   "outputs": [],
   "source": [
    "jeju_insta_df = pd.DataFrame([])\n",
    "\n",
    "folder = './file/'\n",
    "f_list = ['1_crawling_jejudoMatJip.xlsx',\n",
    "          '1_crawling_jejudoGwanGwang.xlsx',\n",
    "          '1_crawling_jejuMatJip.xlsx',\n",
    "          '1_crawling_jejuYeoHang.xlsx']\n",
    "\n",
    "for fname in f_list:\n",
    "    fpath = folder + fname\n",
    "    temp = pd.read_excel(fpath)\n",
    "    jeju_insta_df = jeju_insta_df.append(temp)\n",
    "    \n",
    "jeju_insta_df.columns = ['content', 'data', 'like', 'place', 'tags']\n",
    "\n",
    "jeju_insta_df.drop_duplicates(subset = ['content'], inplace = True)\n",
    "jeju_insta_df.to_excel('./file/1_crawling_raw.xlsx', index = False)"
   ]
  },
  {
   "cell_type": "code",
   "execution_count": null,
   "metadata": {},
   "outputs": [],
   "source": []
  }
 ],
 "metadata": {
  "kernelspec": {
   "display_name": "Python 3",
   "language": "python",
   "name": "python3"
  },
  "language_info": {
   "codemirror_mode": {
    "name": "ipython",
    "version": 3
   },
   "file_extension": ".py",
   "mimetype": "text/x-python",
   "name": "python",
   "nbconvert_exporter": "python",
   "pygments_lexer": "ipython3",
   "version": "3.8.5"
  }
 },
 "nbformat": 4,
 "nbformat_minor": 4
}
