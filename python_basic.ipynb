{
 "cells": [
  {
   "cell_type": "code",
   "execution_count": 1,
   "metadata": {},
   "outputs": [
    {
     "name": "stdout",
     "output_type": "stream",
     "text": [
      "안녕하세요\n"
     ]
    }
   ],
   "source": [
    "print(\"안녕하세요\")"
   ]
  },
  {
   "cell_type": "code",
   "execution_count": 2,
   "metadata": {},
   "outputs": [
    {
     "name": "stdout",
     "output_type": "stream",
     "text": [
      "Hi\n"
     ]
    }
   ],
   "source": [
    "print(\"Hi\")"
   ]
  },
  {
   "cell_type": "code",
   "execution_count": 3,
   "metadata": {},
   "outputs": [],
   "source": [
    "a = 9\n",
    "b = 5"
   ]
  },
  {
   "cell_type": "code",
   "execution_count": 4,
   "metadata": {},
   "outputs": [
    {
     "name": "stdout",
     "output_type": "stream",
     "text": [
      "14\n",
      "4\n",
      "45\n",
      "1.8\n",
      "1\n",
      "4\n"
     ]
    }
   ],
   "source": [
    "print( a + b ) # 더하기\n",
    "print( a - b ) # 빼기\n",
    "print( a * b ) # 곱하기\n",
    "print( a / b ) # 나누기\n",
    "print( a // b ) ## 나눈 몫\n",
    "print( a % b ) # 나눈 나머지"
   ]
  },
  {
   "cell_type": "code",
   "execution_count": 5,
   "metadata": {},
   "outputs": [
    {
     "name": "stdout",
     "output_type": "stream",
     "text": [
      "파이썬 데이터분석입문 PlaywithData 데이터수집\n"
     ]
    }
   ],
   "source": [
    "print('파이썬', '데이터분석입문', 'PlaywithData', '데이터수집')"
   ]
  },
  {
   "cell_type": "code",
   "execution_count": 7,
   "metadata": {},
   "outputs": [
    {
     "name": "stdout",
     "output_type": "stream",
     "text": [
      "귤 / 사과 / 배\n"
     ]
    }
   ],
   "source": [
    "print('귤', '사과', '배', sep = ' / ')"
   ]
  },
  {
   "cell_type": "code",
   "execution_count": 8,
   "metadata": {},
   "outputs": [
    {
     "name": "stdout",
     "output_type": "stream",
     "text": [
      "1번 2번 3번 4번 5번 6번 7번 8번 9번 10번\n",
      "['1번', '2번', '3번', '4번', '5번', '6번', '7번', '8번', '9번', '10번']\n"
     ]
    }
   ],
   "source": [
    "print('1번', '2번', '3번', '4번', '5번', '6번', '7번', '8번', '9번', '10번')\n",
    "\n",
    "class_2_1 = ['1번', '2번', '3번', '4번', '5번', '6번', '7번', '8번', '9번', '10번']\n",
    "print(class_2_1)"
   ]
  },
  {
   "cell_type": "code",
   "execution_count": 9,
   "metadata": {},
   "outputs": [
    {
     "name": "stdout",
     "output_type": "stream",
     "text": [
      "b\n"
     ]
    }
   ],
   "source": [
    "k =     ['a', 'b', 'c', 'd', 'e']\n",
    "# index   0.    1.  2.   3.   4\n",
    "# index.  -5.  -4.  -3   -2.  -1\n",
    "\n",
    "print(k[1])"
   ]
  },
  {
   "cell_type": "code",
   "execution_count": 10,
   "metadata": {},
   "outputs": [
    {
     "name": "stdout",
     "output_type": "stream",
     "text": [
      "['b', 'c']\n",
      "['b', 'c']\n"
     ]
    }
   ],
   "source": [
    "# list.   [인덱스 시작번호: 끝. 다음 번호]\n",
    "k = ['a', 'b', 'c', 'd', 'e']\n",
    "print(k[1:3])\n",
    "print(k[-4: -2])"
   ]
  },
  {
   "cell_type": "code",
   "execution_count": 11,
   "metadata": {},
   "outputs": [
    {
     "name": "stdout",
     "output_type": "stream",
     "text": [
      "['a', 'b', 'c', 'e']\n",
      "['b', 'c', 'e', 'a']\n"
     ]
    }
   ],
   "source": [
    "# A + B\n",
    "\n",
    "l1 = ['a']\n",
    "l2 = ['b', 'c', 'e']\n",
    "\n",
    "print(l1 + l2)\n",
    "print(l2 + l1)"
   ]
  },
  {
   "cell_type": "code",
   "execution_count": 12,
   "metadata": {},
   "outputs": [
    {
     "name": "stdout",
     "output_type": "stream",
     "text": [
      "['a', ['b', 'c', 'e']]\n"
     ]
    }
   ],
   "source": [
    "l1 = ['a']\n",
    "l2 = ['b', 'c', 'e']\n",
    "\n",
    "l1.append(l2)\n",
    "print(l1)"
   ]
  },
  {
   "cell_type": "code",
   "execution_count": 13,
   "metadata": {},
   "outputs": [
    {
     "name": "stdout",
     "output_type": "stream",
     "text": [
      "바나나\n",
      "사과\n",
      "딸기\n",
      "배\n",
      "감\n"
     ]
    }
   ],
   "source": [
    "# 반복문\n",
    "\n",
    "fruits = ['바나나', '사과', '딸기', '배', '감']\n",
    "\n",
    "\n",
    "for fruit in fruits:\n",
    "    print(fruit)"
   ]
  },
  {
   "cell_type": "code",
   "execution_count": 14,
   "metadata": {},
   "outputs": [
    {
     "name": "stdout",
     "output_type": "stream",
     "text": [
      "문자\n"
     ]
    }
   ],
   "source": [
    "s = '문자'\n",
    "print(s)"
   ]
  },
  {
   "cell_type": "code",
   "execution_count": 15,
   "metadata": {},
   "outputs": [
    {
     "name": "stdout",
     "output_type": "stream",
     "text": [
      "사과망고, 파인애플\n"
     ]
    }
   ],
   "source": [
    "a = \"사과\"\n",
    "b = \"망고, 파인애플\"\n",
    "ab = a + b\n",
    "print(ab)"
   ]
  },
  {
   "cell_type": "code",
   "execution_count": 16,
   "metadata": {},
   "outputs": [
    {
     "name": "stdout",
     "output_type": "stream",
     "text": [
      "**********\n"
     ]
    }
   ],
   "source": [
    "z = \"*\"\n",
    "print(z * 10)"
   ]
  },
  {
   "cell_type": "code",
   "execution_count": 17,
   "metadata": {},
   "outputs": [
    {
     "name": "stdout",
     "output_type": "stream",
     "text": [
      "2월 20일은 일요일입니다\n"
     ]
    }
   ],
   "source": [
    "month = \"2월\"\n",
    "day = \"20일\"\n",
    "say = \"{} {}은 일요일입니다\".format(month, day)\n",
    "\n",
    "print(say)"
   ]
  },
  {
   "cell_type": "code",
   "execution_count": 18,
   "metadata": {},
   "outputs": [
    {
     "name": "stdout",
     "output_type": "stream",
     "text": [
      "다\n",
      "바\n",
      "다라마\n",
      "라마바\n"
     ]
    }
   ],
   "source": [
    "k = \"가나다라마바\"\n",
    "\n",
    "print(k[2])\n",
    "print(k[-1])\n",
    "print(k[2:5])\n",
    "print(k[3:])"
   ]
  },
  {
   "cell_type": "code",
   "execution_count": 19,
   "metadata": {},
   "outputs": [
    {
     "name": "stdout",
     "output_type": "stream",
     "text": [
      "   hp010-0000-0000   \n",
      "hp010-0000-0000\n",
      "010-0000-0000\n",
      "['010', '0000', '0000']\n"
     ]
    }
   ],
   "source": [
    "t1 = \"   hp010-0000-0000   \"\n",
    "print(t1)\n",
    "\n",
    "t2 = t1.strip()\n",
    "print(t2)\n",
    "\n",
    "\n",
    "t3 = t2.replace('hp', '')\n",
    "print(t3)\n",
    "\n",
    "t4 = t3.split('-')\n",
    "print(t4)"
   ]
  },
  {
   "cell_type": "code",
   "execution_count": 20,
   "metadata": {},
   "outputs": [
    {
     "name": "stdout",
     "output_type": "stream",
     "text": [
      "비싸다\n"
     ]
    }
   ],
   "source": [
    "price = 5000\n",
    "\n",
    "if price > 3000:\n",
    "    print('비싸다')\n",
    "else:\n",
    "    print('저렴하다')"
   ]
  },
  {
   "cell_type": "code",
   "execution_count": 23,
   "metadata": {},
   "outputs": [
    {
     "name": "stdout",
     "output_type": "stream",
     "text": [
      "안녕하세요\n",
      "제 이름은 홍길동 입니다.\n"
     ]
    }
   ],
   "source": [
    "def say_name(name):\n",
    "    print('안녕하세요')\n",
    "    print('제 이름은 ' + name + ' 입니다.')\n",
    "\n",
    "say_name('홍길동')    "
   ]
  },
  {
   "cell_type": "code",
   "execution_count": 24,
   "metadata": {},
   "outputs": [
    {
     "name": "stdout",
     "output_type": "stream",
     "text": [
      "1000\n"
     ]
    }
   ],
   "source": [
    "def calcul(a,b):\n",
    "    result = a ** b\n",
    "    return result\n",
    "\n",
    "test = calcul(10, 3)\n",
    "print(test)"
   ]
  },
  {
   "cell_type": "code",
   "execution_count": null,
   "metadata": {},
   "outputs": [],
   "source": []
  }
 ],
 "metadata": {
  "kernelspec": {
   "display_name": "Python 3",
   "language": "python",
   "name": "python3"
  },
  "language_info": {
   "codemirror_mode": {
    "name": "ipython",
    "version": 3
   },
   "file_extension": ".py",
   "mimetype": "text/x-python",
   "name": "python",
   "nbconvert_exporter": "python",
   "pygments_lexer": "ipython3",
   "version": "3.8.5"
  }
 },
 "nbformat": 4,
 "nbformat_minor": 4
}
